{
 "cells": [
  {
   "cell_type": "markdown",
   "metadata": {},
   "source": [
    "### II. Variables and Data Types"
   ]
  },
  {
   "cell_type": "markdown",
   "metadata": {},
   "source": [
    "### 2.4 Collections\n",
    "\n",
    "* to simplify code / 코드를 단순화 시킬 수 있고\n",
    "* to let the programmer combine multiple pieces of data into one variable object / 하나의 var에 다양한 데이터들을 넣을 수 있고\n",
    "* to be able to organize data more effectively / 데이터를 더 효율적으로 정리 가능"
   ]
  },
  {
   "cell_type": "markdown",
   "metadata": {},
   "source": [
    "###### Python has multiple ways to deal with collections of data 집합데이터로 만들 수 있는 다양한 방법\n",
    "1) Set: a collection type, a structure that will hold data in an unsorted manner. 정해지지 않은 순서로 데이터를 저장하는 구조 \n",
    "* create a set by setting a variable equal to curly braces { } \n",
    "* can include items in the set by entering them between the braces { } 사이에 아이템들을 세트 안에 넣을 수 있음"
   ]
  },
  {
   "cell_type": "code",
   "execution_count": 92,
   "metadata": {},
   "outputs": [],
   "source": [
    "# Sets\n",
    "an_empty_set = {}"
   ]
  },
  {
   "cell_type": "code",
   "execution_count": 93,
   "metadata": {},
   "outputs": [],
   "source": [
    "a_string_set = {\"Red\", \"Yellow\", \"Blue\"}"
   ]
  },
  {
   "cell_type": "code",
   "execution_count": 94,
   "metadata": {},
   "outputs": [],
   "source": [
    "a_number_set = {5, 0, -2, 991}"
   ]
  },
  {
   "cell_type": "code",
   "execution_count": 95,
   "metadata": {},
   "outputs": [],
   "source": [
    "a_mixed_set = {\"Hi\", -8, 4.52, 4+9.2J}"
   ]
  },
  {
   "cell_type": "code",
   "execution_count": 96,
   "metadata": {},
   "outputs": [
    {
     "name": "stdout",
     "output_type": "stream",
     "text": [
      "{}\n"
     ]
    }
   ],
   "source": [
    "print(an_empty_set)"
   ]
  },
  {
   "cell_type": "code",
   "execution_count": 97,
   "metadata": {},
   "outputs": [
    {
     "name": "stdout",
     "output_type": "stream",
     "text": [
      "{'Yellow', 'Blue', 'Red'}\n"
     ]
    }
   ],
   "source": [
    "print(a_string_set)"
   ]
  },
  {
   "cell_type": "code",
   "execution_count": 98,
   "metadata": {},
   "outputs": [
    {
     "name": "stdout",
     "output_type": "stream",
     "text": [
      "{0, 5, -2, 991}\n"
     ]
    }
   ],
   "source": [
    "print(a_number_set)"
   ]
  },
  {
   "cell_type": "code",
   "execution_count": 99,
   "metadata": {},
   "outputs": [
    {
     "name": "stdout",
     "output_type": "stream",
     "text": [
      "{-8, 4.52, 'Hi', (4+9.2j)}\n"
     ]
    }
   ],
   "source": [
    "print(a_mixed_set)"
   ]
  },
  {
   "cell_type": "markdown",
   "metadata": {},
   "source": [
    "##### Set Methods in Use\n",
    "* Add\n",
    "* Remove\n",
    "* Clear  (List Methods들과는 다름)\n",
    "#### Sets will not allow duplicate elements of the same value / 세트는 같은 밸류를 가진 중복을 허용하지 않음"
   ]
  },
  {
   "cell_type": "code",
   "execution_count": 100,
   "metadata": {},
   "outputs": [
    {
     "name": "stdout",
     "output_type": "stream",
     "text": [
      "{'F Beck', 'L Mat', 'G Mul'}\n"
     ]
    }
   ],
   "source": [
    "# Sets come with a range of methods to help you use them effectively\n",
    "# Set Methods in Use\n",
    "# add / remove / clear (list methods들과는 다름)\n",
    "p_names = {\"F Beck\", \"G Mul\", \"L Mat\"}\n",
    "print(p_names)"
   ]
  },
  {
   "cell_type": "code",
   "execution_count": 104,
   "metadata": {},
   "outputs": [
    {
     "ename": "KeyError",
     "evalue": "'L Mat'",
     "output_type": "error",
     "traceback": [
      "\u001b[1;31m---------------------------------------------------------------------------\u001b[0m",
      "\u001b[1;31mKeyError\u001b[0m                                  Traceback (most recent call last)",
      "\u001b[1;32m<ipython-input-104-661b6ac1e7c2>\u001b[0m in \u001b[0;36m<module>\u001b[1;34m\u001b[0m\n\u001b[0;32m      1\u001b[0m \u001b[0mp_names\u001b[0m\u001b[1;33m.\u001b[0m\u001b[0madd\u001b[0m\u001b[1;33m(\u001b[0m\u001b[1;34m\"M Nue\"\u001b[0m\u001b[1;33m)\u001b[0m \u001b[1;31m# adds an element to the set\u001b[0m\u001b[1;33m\u001b[0m\u001b[1;33m\u001b[0m\u001b[0m\n\u001b[1;32m----> 2\u001b[1;33m \u001b[0mp_names\u001b[0m\u001b[1;33m.\u001b[0m\u001b[0mremove\u001b[0m\u001b[1;33m(\u001b[0m\u001b[1;34m\"L Mat\"\u001b[0m\u001b[1;33m)\u001b[0m \u001b[1;31m# removes a specific element\u001b[0m\u001b[1;33m\u001b[0m\u001b[1;33m\u001b[0m\u001b[0m\n\u001b[0m",
      "\u001b[1;31mKeyError\u001b[0m: 'L Mat'"
     ]
    }
   ],
   "source": [
    "p_names.add(\"M Nue\") # adds an element to the set\n",
    "p_names.remove(\"L Mat\") # removes a specific element\n",
    "# Sets will not allow duplicate elements of the same value / 세트는 같은 밸류를 가진 중복을 허용하지 않음"
   ]
  },
  {
   "cell_type": "code",
   "execution_count": 105,
   "metadata": {},
   "outputs": [
    {
     "name": "stdout",
     "output_type": "stream",
     "text": [
      "{'F Beck', 'M Nue', 'G Mul'}\n"
     ]
    }
   ],
   "source": [
    "print(p_names)"
   ]
  },
  {
   "cell_type": "code",
   "execution_count": 106,
   "metadata": {},
   "outputs": [],
   "source": [
    "p_names.clear()"
   ]
  },
  {
   "cell_type": "code",
   "execution_count": 107,
   "metadata": {},
   "outputs": [
    {
     "name": "stdout",
     "output_type": "stream",
     "text": [
      "set()\n"
     ]
    }
   ],
   "source": [
    "print(p_names)"
   ]
  },
  {
   "cell_type": "markdown",
   "metadata": {},
   "source": [
    "Frozen Set: an immutable set in the same way we created the sets \n",
    "* with using a keyword \"frozen\" and \n",
    "* parenthesing around the set we are trying to create \n"
   ]
  },
  {
   "cell_type": "code",
   "execution_count": 108,
   "metadata": {},
   "outputs": [],
   "source": [
    "frozen_set = frozenset({1, 92.5, \"Frozen!!!\"})  #({}) 가로 안에 {} 넣으면 변경 불가"
   ]
  },
  {
   "cell_type": "code",
   "execution_count": 109,
   "metadata": {},
   "outputs": [
    {
     "data": {
      "text/plain": [
       "frozenset({1, 92.5, 'Frozen!!!'})"
      ]
     },
     "execution_count": 109,
     "metadata": {},
     "output_type": "execute_result"
    }
   ],
   "source": [
    "frozen_set"
   ]
  },
  {
   "cell_type": "code",
   "execution_count": 110,
   "metadata": {},
   "outputs": [
    {
     "ename": "AttributeError",
     "evalue": "'frozenset' object has no attribute 'add'",
     "output_type": "error",
     "traceback": [
      "\u001b[1;31m---------------------------------------------------------------------------\u001b[0m",
      "\u001b[1;31mAttributeError\u001b[0m                            Traceback (most recent call last)",
      "\u001b[1;32m<ipython-input-110-df2766ea66cb>\u001b[0m in \u001b[0;36m<module>\u001b[1;34m\u001b[0m\n\u001b[1;32m----> 1\u001b[1;33m \u001b[0mfrozen_set\u001b[0m\u001b[1;33m.\u001b[0m\u001b[0madd\u001b[0m\u001b[1;33m(\u001b[0m\u001b[1;34m\"Let me in!!!\"\u001b[0m\u001b[1;33m)\u001b[0m\u001b[1;33m\u001b[0m\u001b[1;33m\u001b[0m\u001b[0m\n\u001b[0m",
      "\u001b[1;31mAttributeError\u001b[0m: 'frozenset' object has no attribute 'add'"
     ]
    }
   ],
   "source": [
    "frozen_set.add(\"Let me in!!!\")"
   ]
  },
  {
   "cell_type": "markdown",
   "metadata": {},
   "source": [
    "##### Difference between List and Set / 리스트와 세트 차이점\n",
    "* list allow duplicate elements within the list / 리스트는 리스트 내의 요소들의 중복 가능\n",
    "* lists are ordered, meaning that each element occupies a specific place in the list / 리스트 안의 요소들은 각각의 특정 위치를 차지함\n",
    "\n",
    "* sets are created using curly braces / 세트는 { } 만듦\n",
    "* lists are created in an almost identical manner / 리스트는 [ ]\n",
    "* but they are created using square brackets([ ]) instead of the braces"
   ]
  },
  {
   "cell_type": "markdown",
   "metadata": {},
   "source": [
    "* Sets are much more effective and faster at identifying whether or not an item is found in the set (세트는 어떤 아이템이 세트 안에 있는지 없는지 찾는 것에 간편)\n",
    "* while lists are much faster at looping through to view or manipulate each item in the list. (리스트는 루프를 사용해 살펴보기나 아이템 조작할 때 등 용이)"
   ]
  },
  {
   "cell_type": "markdown",
   "metadata": {},
   "source": [
    "#### 2) List Methods\n",
    "* append:맨 뒤에 더해짐\n",
    "* insert: 지정된 자리에 입력\n",
    "* remove \n",
    "* clear \n",
    "* count\n",
    "\n",
    "##### 참고) Set Methods: Add, Remove, Clear"
   ]
  },
  {
   "cell_type": "code",
   "execution_count": 111,
   "metadata": {},
   "outputs": [],
   "source": [
    "mylist = [1, 2.6, \"Bob\", 5+7.2J]"
   ]
  },
  {
   "cell_type": "code",
   "execution_count": 112,
   "metadata": {},
   "outputs": [
    {
     "name": "stdout",
     "output_type": "stream",
     "text": [
      "[1, 2.6, 'Bob', (5+7.2j)]\n"
     ]
    }
   ],
   "source": [
    "print(mylist)"
   ]
  },
  {
   "cell_type": "code",
   "execution_count": 114,
   "metadata": {},
   "outputs": [
    {
     "name": "stdout",
     "output_type": "stream",
     "text": [
      "[1, 2.6, 'Bob', (5+7.2j), 'Jay', 'Jay']\n"
     ]
    }
   ],
   "source": [
    "mylist.append(\"Jay\") # adds an element to the back of the list\n",
    "print(mylist) # append는 맨 뒤에, insert는 지정된 자리에 입력"
   ]
  },
  {
   "cell_type": "code",
   "execution_count": 115,
   "metadata": {},
   "outputs": [],
   "source": [
    "mylist.insert(2, 99) # adds an element at a specified index\n",
    "# 2는 2를 넣는게 아니라 두번째 자리에 99를 넣는다는 의미"
   ]
  },
  {
   "cell_type": "code",
   "execution_count": 116,
   "metadata": {},
   "outputs": [
    {
     "name": "stdout",
     "output_type": "stream",
     "text": [
      "[1, 2.6, 99, 'Bob', (5+7.2j), 'Jay', 'Jay']\n"
     ]
    }
   ],
   "source": [
    "print(mylist)"
   ]
  },
  {
   "cell_type": "code",
   "execution_count": 118,
   "metadata": {},
   "outputs": [],
   "source": [
    "mylist.remove('Jay')"
   ]
  },
  {
   "cell_type": "code",
   "execution_count": 119,
   "metadata": {},
   "outputs": [
    {
     "name": "stdout",
     "output_type": "stream",
     "text": [
      "[1, 2.6, 99, 'Bob', (5+7.2j), 'Jay']\n"
     ]
    }
   ],
   "source": [
    "print(mylist)"
   ]
  },
  {
   "cell_type": "markdown",
   "metadata": {},
   "source": [
    "* While sets have a frozen set option that creates an immutable set, 세트는 변경이 불가능한 세트를 만드는 Frozen set 옵션이 있다면,\n",
    "* lists have analogous structures that behave in similar ways but are also immutable: tuples. 리스트는 변경이 불가능하지만 비슷한 방법을 나타내는 유사한 구조를 가지는데 Tuples이라고 함\n",
    "\n",
    "#### 3) A tuple is a sequence of immutable objects; they are created using parentheses rather than curly braces or brackets. \n",
    "*  튜플은 불변의 대상들의 연속; Parenthese ()를 사용 (Set: curly braces{ }, List: brackets [ ])"
   ]
  },
  {
   "cell_type": "code",
   "execution_count": 120,
   "metadata": {},
   "outputs": [],
   "source": [
    "my_tuple = (7, 4.5+2.1J, -9991.71, \"Tuple\")"
   ]
  },
  {
   "cell_type": "code",
   "execution_count": 121,
   "metadata": {},
   "outputs": [
    {
     "name": "stdout",
     "output_type": "stream",
     "text": [
      "(7, (4.5+2.1j), -9991.71, 'Tuple')\n"
     ]
    }
   ],
   "source": [
    "print(my_tuple)"
   ]
  },
  {
   "cell_type": "markdown",
   "metadata": {},
   "source": [
    "#### 4) Dictionaries are collections that are unordered and changeable (mutable) where each element consists of a key and a value. \n",
    "* 사전은 키와 밸류를 가진 각각의 요소들이 변화 가능하고 정돈되지 않은 집합\n",
    "* to check the value of a particular key. To do so, you can either put the name of the key in brackets ([ ]) \n",
    "특정 키의 밸류를 확인하기 위해. 가로 안에 키 이름을 넣어서 확인 가능\n",
    "* Dictionaries store elements in key and value pairs, and sets do not \n",
    "사전은 주제와 관련어에 요소들을 저장할 수 있지만 세트는 불가능"
   ]
  },
  {
   "cell_type": "code",
   "execution_count": 122,
   "metadata": {},
   "outputs": [],
   "source": [
    "my_dictionary = {\"Hair color\": \"Brown\", \"Eye color\":\"Black\", \"Age\": 31}"
   ]
  },
  {
   "cell_type": "code",
   "execution_count": 123,
   "metadata": {},
   "outputs": [
    {
     "name": "stdout",
     "output_type": "stream",
     "text": [
      "{'Hair color': 'Brown', 'Eye color': 'Black', 'Age': 31}\n"
     ]
    }
   ],
   "source": [
    "print(my_dictionary)"
   ]
  },
  {
   "cell_type": "code",
   "execution_count": 124,
   "metadata": {},
   "outputs": [
    {
     "data": {
      "text/plain": [
       "'Black'"
      ]
     },
     "execution_count": 124,
     "metadata": {},
     "output_type": "execute_result"
    }
   ],
   "source": [
    "my_dictionary[\"Eye color\"]"
   ]
  },
  {
   "cell_type": "code",
   "execution_count": 125,
   "metadata": {},
   "outputs": [
    {
     "data": {
      "text/plain": [
       "31"
      ]
     },
     "execution_count": 125,
     "metadata": {},
     "output_type": "execute_result"
    }
   ],
   "source": [
    "my_dictionary.get(\"Age\")"
   ]
  },
  {
   "cell_type": "markdown",
   "metadata": {},
   "source": [
    "### 2.5 Files\n",
    "One feature that a lot of powerful applications have is persistent data, and saving data to files and retrieving that data is a critical part of most applications \n",
    "- 강력한 어플리케이션이 가진 특징 중 하나는 끊임없이 지속되는 데이터, 데이터를 파일에 저장하고 검색할 수 있는 것은 아주 중요한 능력 중 하나\n",
    "\n",
    "\n",
    "* File: Read, Create, Append, Write (모두 파일을 새로 만드는 것에 관함)\n",
    "    * Set: Add, Remove, Clear\n",
    "    * List: Append, Insert, Remove, Clear, Count\n",
    "    \n",
    "\n",
    " * Read” opens the file for reading / 파일을 읽기 위해 열기\n",
    " * Create” will create a new file with the specified file name, if it already exists, will get an error message / 특정 이름의 파일을 새로 만들기(이미 있는 경우 에러)\n",
    " * Append” will create a new file if one does not exist. If the file does exist, the program will not cause an error but will instead open the file. (존재하지 않을 경우 새로 파일 만들기, 있는 경우 에러가 뜨지 않고 이미 있는 파일 열어줌)\n",
    " * Write” will create a new file if one does not exist and open it if it does exist (without causing an error). 존재하든 안하든 새로운 파일 생성"
   ]
  },
  {
   "cell_type": "markdown",
   "metadata": {},
   "source": [
    " * You can open files in Python by using a method called “open,” specifying a filename \n",
    " * an “x” for “create,” \n",
    " * an “a” for “append,” \n",
    " * a “w” for “write”, or \n",
    " * an “r” for “read”"
   ]
  },
  {
   "cell_type": "code",
   "execution_count": 129,
   "metadata": {},
   "outputs": [],
   "source": [
    "# Writing to a File\n",
    "my_file = open(\"myfile.txt\",\"w\") # w means write"
   ]
  },
  {
   "cell_type": "code",
   "execution_count": 130,
   "metadata": {},
   "outputs": [
    {
     "data": {
      "text/plain": [
       "34"
      ]
     },
     "execution_count": 130,
     "metadata": {},
     "output_type": "execute_result"
    }
   ],
   "source": [
    "my_file.write(\"I'm writing to a file in Python!!!\")\n",
    "# the return value is 35, but 34"
   ]
  },
  {
   "cell_type": "code",
   "execution_count": 128,
   "metadata": {},
   "outputs": [],
   "source": [
    "my_file.close()"
   ]
  },
  {
   "cell_type": "markdown",
   "metadata": {},
   "source": [
    "* Have you ever tried to write to a file in a word processor or some other software tool and found that you could not write to it because it was open in some other application? 다른 곳에서 사용중일 때 종료하거나 다시 열수 없는 상황\n",
    "* That is called a “file lock”파일락, 파일이 잠긴 상태를 의미; developers use these to prevent two (or more) applications from writing to the same files at the same time. 동시에 같은 파일을 작성 중일 때 열수 없는 상황을 방지하기 위한 방법\n",
    "* A file lock is one possible reason why writing to a file might fail. 파일락은 파일이 실패하는 이유 중 하나의 가능성. \n",
    "* The bottom line is that we are in control of the code we write. We can make it safe and secure and feel good about it when we go home at night. But the file system is something that is out of our control — we didn’t write it."
   ]
  },
  {
   "cell_type": "code",
   "execution_count": 131,
   "metadata": {},
   "outputs": [],
   "source": [
    "# Open file for reading\n",
    "\n",
    "my_file = open(\"myfile.txt\", \"r\") # r means read"
   ]
  },
  {
   "cell_type": "code",
   "execution_count": 132,
   "metadata": {},
   "outputs": [
    {
     "name": "stdout",
     "output_type": "stream",
     "text": [
      "I'm writing to a file in Python!!!\n"
     ]
    }
   ],
   "source": [
    "# Reading from a file\n",
    "print(my_file.read())"
   ]
  },
  {
   "cell_type": "code",
   "execution_count": 133,
   "metadata": {},
   "outputs": [],
   "source": [
    "my_file.close()"
   ]
  },
  {
   "cell_type": "markdown",
   "metadata": {},
   "source": [
    "#### Test"
   ]
  },
  {
   "cell_type": "code",
   "execution_count": 134,
   "metadata": {},
   "outputs": [
    {
     "data": {
      "text/plain": [
       "5"
      ]
     },
     "execution_count": 134,
     "metadata": {},
     "output_type": "execute_result"
    }
   ],
   "source": [
    "80%25"
   ]
  },
  {
   "cell_type": "code",
   "execution_count": 135,
   "metadata": {},
   "outputs": [],
   "source": [
    "my_string = \"Python is so powerful!\""
   ]
  },
  {
   "cell_type": "code",
   "execution_count": 136,
   "metadata": {},
   "outputs": [
    {
     "data": {
      "text/plain": [
       "'is so'"
      ]
     },
     "execution_count": 136,
     "metadata": {},
     "output_type": "execute_result"
    }
   ],
   "source": [
    "my_string[7:12]"
   ]
  },
  {
   "cell_type": "code",
   "execution_count": 139,
   "metadata": {},
   "outputs": [],
   "source": [
    "ms = \"this has  ＼”quotes＼”.\""
   ]
  },
  {
   "cell_type": "code",
   "execution_count": 140,
   "metadata": {},
   "outputs": [
    {
     "data": {
      "text/plain": [
       "'this has  ＼”quotes＼”.'"
      ]
     },
     "execution_count": 140,
     "metadata": {},
     "output_type": "execute_result"
    }
   ],
   "source": [
    "ms # 대쉬가 안나와야 하는데;;"
   ]
  },
  {
   "cell_type": "code",
   "execution_count": null,
   "metadata": {},
   "outputs": [],
   "source": []
  }
 ],
 "metadata": {
  "kernelspec": {
   "display_name": "Python 3",
   "language": "python",
   "name": "python3"
  },
  "language_info": {
   "codemirror_mode": {
    "name": "ipython",
    "version": 3
   },
   "file_extension": ".py",
   "mimetype": "text/x-python",
   "name": "python",
   "nbconvert_exporter": "python",
   "pygments_lexer": "ipython3",
   "version": "3.7.3"
  }
 },
 "nbformat": 4,
 "nbformat_minor": 2
}
